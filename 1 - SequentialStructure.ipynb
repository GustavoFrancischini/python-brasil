{
 "cells": [
  {
   "cell_type": "markdown",
   "id": "620ed70e-0865-43f2-ab14-bb02a8846856",
   "metadata": {},
   "source": [
    "# Python Brazil \n",
    "\n",
    "#### This is a notebook focused on sequential structures, specifically in Python. Each cell is independent and can be executed randomly.\n",
    "###### https://wiki.python.org.br/ListaDeExercicios"
   ]
  },
  {
   "cell_type": "markdown",
   "id": "5407a76e-7617-487d-a529-ba90ea7c54a8",
   "metadata": {},
   "source": [
    "-----------------------------------------------------"
   ]
  },
  {
   "cell_type": "markdown",
   "id": "fd5edd27-2d01-42cc-b83d-04cbfd5ced58",
   "metadata": {},
   "source": [
    "##### 1) Create a program that displays the message \"Hello, world\" on the screen."
   ]
  },
  {
   "cell_type": "code",
   "execution_count": null,
   "id": "099ff425-9065-4dfd-95b0-f9dd058adef9",
   "metadata": {},
   "outputs": [],
   "source": [
    "print(\"Hello, world\")"
   ]
  },
  {
   "cell_type": "markdown",
   "id": "0d540108-d3ec-4015-bd1c-3af318294335",
   "metadata": {},
   "source": [
    "---------------------------------"
   ]
  },
  {
   "cell_type": "markdown",
   "id": "47567e4f-90b1-4f9c-a361-ced35e13dee8",
   "metadata": {},
   "source": [
    "##### 2) Create a program that asks for a number and then displays the message \"The number entered was {number}.\""
   ]
  },
  {
   "cell_type": "code",
   "execution_count": null,
   "id": "398cd6df-8f44-424a-b4de-ec9bf1ecfd5d",
   "metadata": {},
   "outputs": [],
   "source": [
    "number = float(input(\"Type a number: \"))\n",
    "print(f\"The number entered was {number}\")"
   ]
  },
  {
   "cell_type": "markdown",
   "id": "fcd25a32-5daf-4009-958e-7604a16f0951",
   "metadata": {},
   "source": [
    "-------------"
   ]
  },
  {
   "cell_type": "markdown",
   "id": "aa35aa34-87a9-44a8-8b50-86fb7dcfa1db",
   "metadata": {},
   "source": [
    "##### 3) Create a program that asks for two numbers and prints their sum."
   ]
  },
  {
   "cell_type": "code",
   "execution_count": null,
   "id": "c6244f4a-f41d-472d-aa5d-1bafbe3a5170",
   "metadata": {},
   "outputs": [],
   "source": [
    "number_1 = float(input(\"Type a number: \"))\n",
    "number_2 = float(input(\"Type another number: \"))\n",
    "\n",
    "sum = number_1 + number_2\n",
    "\n",
    "print(f\"The sum of the numbers is {sum}\")"
   ]
  },
  {
   "cell_type": "markdown",
   "id": "0a287793-423e-4467-870c-1bc5ccc9c471",
   "metadata": {},
   "source": [
    "-------------"
   ]
  },
  {
   "cell_type": "markdown",
   "id": "7a606973-5fc0-4df4-8aa0-de608594646e",
   "metadata": {},
   "source": [
    "##### 4) Create a program that asks for the four quarterly grades and shows the average. "
   ]
  },
  {
   "cell_type": "code",
   "execution_count": null,
   "id": "55f10b64-f0fc-4f8a-9197-b277fa6ef124",
   "metadata": {},
   "outputs": [],
   "source": [
    "n1 = float(input(\"Enter the grade for the first quarter: \"))\n",
    "n2 = float(input(\"Enter the grade for the second quarter: \"))\n",
    "n3 = float(input(\"Enter the grade for the third quarter: \"))\n",
    "n4 = float(input(\"Enter the grade for the fourth quarter: \"))\n",
    "\n",
    "weighted_average = (n1 * 2 + n2 * 4 + n3 * 3 + n4 * 1) / 10\n",
    "\n",
    "print(f\"The weighted average was {weighted_average:.2f}\")"
   ]
  },
  {
   "cell_type": "markdown",
   "id": "df01a67b-c83f-4887-93bc-1488cc162db6",
   "metadata": {},
   "source": [
    "-------------"
   ]
  },
  {
   "cell_type": "markdown",
   "id": "d48c8aa8-ddb7-4ff7-9e0e-768428da2d8e",
   "metadata": {},
   "source": [
    "##### 5) Create a program that converts meters to centimeters."
   ]
  },
  {
   "cell_type": "code",
   "execution_count": null,
   "id": "895f856e-0c1b-4112-950a-22ee3c59402e",
   "metadata": {},
   "outputs": [],
   "source": [
    "meters = float(input(\"Enter a value in meters: \"))\n",
    "\n",
    "convert = meters * 100        \n",
    "\n",
    "print(f\"The value entered, converted to centimeters, is: {convert:.0f} centimeters\")"
   ]
  },
  {
   "cell_type": "markdown",
   "id": "ffe3eade-7b46-40af-a798-76e0fdcdf7bc",
   "metadata": {},
   "source": [
    "-------------"
   ]
  },
  {
   "cell_type": "markdown",
   "id": "8271173b-c888-4fa0-8540-c89625532ad3",
   "metadata": {},
   "source": [
    "##### 6) Create a program that asks for the radius of a circle, calculates its area, and displays it."
   ]
  },
  {
   "cell_type": "code",
   "execution_count": null,
   "id": "256ca1e8-3319-42c5-9e8a-fc1af6cce527",
   "metadata": {},
   "outputs": [],
   "source": [
    "import math\n",
    "\n",
    "radius = float(input(\"Enter the radius of the circle: \"))\n",
    "\n",
    "# I am calculating the area of the circle using the formula A = πr²\n",
    "area = math.pi * (radius ** 2)\n",
    "\n",
    "print(f\"The area of the circle with radius {radius} is: {area:.2f}\")"
   ]
  },
  {
   "cell_type": "markdown",
   "id": "3f8a943d-c365-4167-b7b6-ae6c1580bcbb",
   "metadata": {},
   "source": [
    "-------------"
   ]
  },
  {
   "cell_type": "markdown",
   "id": "b2585f80-6bd1-4ec3-8def-dcc8689ea933",
   "metadata": {},
   "source": [
    "##### 7) Program to calculate the area of a square and then show double the area to the user"
   ]
  },
  {
   "cell_type": "code",
   "execution_count": null,
   "id": "8778d6e5-9937-4c0f-bbed-976f1ee9cab8",
   "metadata": {},
   "outputs": [],
   "source": [
    "side_length = float(input(\"Enter the length of one side of your square: \"))\n",
    "area = side_length * side_length\n",
    "double_area = area * 2\n",
    "\n",
    "print(f\"The double of the area of your square is {double_area}\")"
   ]
  },
  {
   "cell_type": "markdown",
   "id": "6fbd126c-f960-4e84-840c-7f3482594a5a",
   "metadata": {},
   "source": [
    "-------------"
   ]
  },
  {
   "cell_type": "markdown",
   "id": "4e6242ed-f809-457a-b9a4-b6d0717bd287",
   "metadata": {},
   "source": [
    "##### 8) Create a program that asks how much you earn per hour and the number of hours worked in the month. Calculate and show your total salary for that month."
   ]
  },
  {
   "cell_type": "code",
   "execution_count": 1,
   "id": "67c11104-b333-4e01-8783-a83de29478c5",
   "metadata": {},
   "outputs": [
    {
     "name": "stdin",
     "output_type": "stream",
     "text": [
      "How much do you earn per hour?  50.250\n",
      "How many hours do you work in a month?  45\n"
     ]
    },
    {
     "name": "stdout",
     "output_type": "stream",
     "text": [
      "Your monthly salary is $2261.25\n"
     ]
    }
   ],
   "source": [
    "hourly_salary = float(input(\"How much do you earn per hour? \"))\n",
    "hours_worked = int(input(\"How many hours do you work in a month? \"))\n",
    "\n",
    "monthly_salary = hourly_salary * hours_worked\n",
    "\n",
    "print(f\"Your monthly salary is ${monthly_salary:.2f}\")"
   ]
  },
  {
   "cell_type": "markdown",
   "id": "d357b906-056a-4031-aa17-388332429922",
   "metadata": {},
   "source": [
    "-------------"
   ]
  },
  {
   "cell_type": "markdown",
   "id": "5c258788-b92d-45a2-9ae1-f7a7400bc26b",
   "metadata": {},
   "source": [
    "##### 9) Create a program that asks for the temperature in degrees Fahrenheit, converts it, and shows the temperature in degrees Celsius. \n",
    "##### Use the formula C = 5 * ((F-32) / 9)."
   ]
  },
  {
   "cell_type": "code",
   "execution_count": null,
   "id": "183a12ff-31de-4b32-9335-d3ab33818c04",
   "metadata": {},
   "outputs": [],
   "source": [
    "fahrenheit = int(input(\"Enter a temperature in Fahrenheit: \"))\n",
    "\n",
    "celsius = 5 * ((fahrenheit - 32) / 9)\n",
    "\n",
    "print(f\"After converting the provided temperature, it is in Celsius: {celsius:.2f} degrees Celsius\")"
   ]
  },
  {
   "cell_type": "markdown",
   "id": "104556b8-bb8f-4c66-ace6-e03006128036",
   "metadata": {},
   "source": [
    "-------------"
   ]
  },
  {
   "cell_type": "markdown",
   "id": "3b74eb2f-01af-4aba-893b-df6fee217adc",
   "metadata": {},
   "source": [
    "##### 10) Create a program that asks for the temperature in degrees Celsius, converts it, and displays the temperature in degrees Fahrenheit."
   ]
  },
  {
   "cell_type": "code",
   "execution_count": 2,
   "id": "fe2b6151-bc84-4bca-a890-754460f47172",
   "metadata": {},
   "outputs": [
    {
     "name": "stdin",
     "output_type": "stream",
     "text": [
      "Enter a temperature in degrees Celsius:  36\n"
     ]
    },
    {
     "name": "stdout",
     "output_type": "stream",
     "text": [
      "The temperature in degrees Fahrenheit is: 96.80°F\n"
     ]
    }
   ],
   "source": [
    "celsius = float(input(\"Enter a temperature in degrees Celsius: \"))\n",
    "\n",
    "# Conversion formula: F = (C * 9/5) + 32\n",
    "fahrenheit = (celsius * 9/5) + 32\n",
    "\n",
    "print(f\"The temperature in degrees Fahrenheit is: {fahrenheit:.2f}°F\")"
   ]
  }
 ],
 "metadata": {
  "kernelspec": {
   "display_name": "Python 3 (ipykernel)",
   "language": "python",
   "name": "python3"
  },
  "language_info": {
   "codemirror_mode": {
    "name": "ipython",
    "version": 3
   },
   "file_extension": ".py",
   "mimetype": "text/x-python",
   "name": "python",
   "nbconvert_exporter": "python",
   "pygments_lexer": "ipython3",
   "version": "3.11.5"
  }
 },
 "nbformat": 4,
 "nbformat_minor": 5
}
