{
 "cells": [
  {
   "cell_type": "markdown",
   "id": "8491bc0e",
   "metadata": {},
   "source": [
    "# Python Brasil <br>\n",
    "\n",
    "#### Este é um caderno focado em estruturas sequenciais, especificamente em Python. Cada célula é independente e pode ser executada aleatoriamente. <br>\n",
    "###### https://wiki.python.org.br/ListaDeExercicios\n"
   ]
  },
  {
   "cell_type": "markdown",
   "id": "3270f50e",
   "metadata": {},
   "source": [
    "##### 1) Faça um Programa que mostre a mensagem \"Alo mundo\" na tela."
   ]
  },
  {
   "cell_type": "code",
   "execution_count": null,
   "id": "eb73bbf7",
   "metadata": {},
   "outputs": [],
   "source": [
    "print(\"Hello, world\")"
   ]
  },
  {
   "cell_type": "markdown",
   "id": "de6218f5",
   "metadata": {},
   "source": [
    "##### 2) Faça um Programa que peça um número e então mostre a mensagem \"O número informado foi {número}\"."
   ]
  },
  {
   "cell_type": "code",
   "execution_count": null,
   "id": "c8b79a3d",
   "metadata": {},
   "outputs": [],
   "source": [
    "numero = float(input(\"Digite um número: \"))\n",
    "print(f\"O número digitado {number}\")"
   ]
  }
 ],
 "metadata": {
  "kernelspec": {
   "display_name": "Python 3 (ipykernel)",
   "language": "python",
   "name": "python3"
  },
  "language_info": {
   "codemirror_mode": {
    "name": "ipython",
    "version": 3
   },
   "file_extension": ".py",
   "mimetype": "text/x-python",
   "name": "python",
   "nbconvert_exporter": "python",
   "pygments_lexer": "ipython3",
   "version": "3.11.5"
  }
 },
 "nbformat": 4,
 "nbformat_minor": 5
}
