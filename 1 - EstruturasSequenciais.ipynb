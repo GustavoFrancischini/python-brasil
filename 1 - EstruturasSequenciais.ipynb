{
 "cells": [
  {
   "cell_type": "markdown",
   "id": "8491bc0e",
   "metadata": {},
   "source": [
    "# Python Brasil <br>\n",
    "\n",
    "#### Este é um caderno focado em estruturas sequenciais, especificamente em Python. Cada célula é independente e pode ser executada aleatoriamente. <br>\n",
    "###### https://wiki.python.org.br/ListaDeExercicios\n"
   ]
  },
  {
   "cell_type": "markdown",
   "id": "3270f50e",
   "metadata": {},
   "source": [
    "##### 1) Faça um Programa que mostre a mensagem \"Alô mundo\" na tela."
   ]
  },
  {
   "cell_type": "code",
   "execution_count": null,
   "id": "eb73bbf7",
   "metadata": {},
   "outputs": [],
   "source": [
    "print(\"Alô, mundo!\")"
   ]
  },
  {
   "cell_type": "markdown",
   "id": "de6218f5",
   "metadata": {},
   "source": [
    "##### 2) Faça um Programa que peça um número e então mostre a mensagem \"O número informado foi {número}\"."
   ]
  },
  {
   "cell_type": "code",
   "execution_count": null,
   "id": "c8b79a3d",
   "metadata": {},
   "outputs": [],
   "source": [
    "numero = float(input(\"Digite um número: \"))\n",
    "print(f\"O número digitado {numero}\")"
   ]
  },
  {
   "cell_type": "markdown",
   "id": "24308ef1",
   "metadata": {},
   "source": [
    "##### 3) Faça um Programa que peça dois números e imprima a soma."
   ]
  },
  {
   "cell_type": "code",
   "execution_count": null,
   "id": "56543470",
   "metadata": {},
   "outputs": [],
   "source": [
    "n1 = float(input(\"Informe um número: \"))\n",
    "n2 = float(input(\"Informe outro número: \"))\n",
    "\n",
    "soma = n1 + n2\n",
    "\n",
    "print(f\"A soma dos dois números é: {soma}\")"
   ]
  },
  {
   "cell_type": "markdown",
   "id": "7dedf9d1",
   "metadata": {},
   "source": [
    "##### 4) Faça um Programa que peça as 4 notas bimestrais e mostre a média."
   ]
  },
  {
   "cell_type": "code",
   "execution_count": null,
   "id": "88dcc1bf",
   "metadata": {},
   "outputs": [],
   "source": [
    "n1 = float(input(\"Informe a nota do primeiro bimestre: \"))\n",
    "n2 = float(input(\"Informe a nota do segundo bimestre: \"))\n",
    "n3 = float(input(\"Informe a nota do terceiro bimestre: \"))\n",
    "n4 = float(input(\"Informe a nota do quarto bimestre: \"))\n",
    "\n",
    "media = (n1 + n2 + n3 + n4) / 4\n",
    "\n",
    "print(f\"A media das notas é: {media}\")"
   ]
  },
  {
   "cell_type": "markdown",
   "id": "a717b8eb",
   "metadata": {},
   "source": [
    "##### 5) Faça um Programa que converta metros para centímetros."
   ]
  },
  {
   "cell_type": "markdown",
   "id": "f8a87359",
   "metadata": {},
   "source": [
    "##### 6) Faça um Programa que peça o raio de um círculo, calcule e mostre sua área."
   ]
  },
  {
   "cell_type": "markdown",
   "id": "6917815c",
   "metadata": {},
   "source": [
    "##### 7) Faça um Programa que calcule a área de um quadrado, em seguida mostre o dobro desta área para o usuário."
   ]
  },
  {
   "cell_type": "markdown",
   "id": "3fa7683a",
   "metadata": {},
   "source": [
    "##### 8) Faça um Programa que pergunte quanto você ganha por hora e o número de horas trabalhadas no mês. Calcule e mostre o total do seu salário no referido mês."
   ]
  },
  {
   "cell_type": "markdown",
   "id": "1341e0c8",
   "metadata": {},
   "source": [
    "##### 9) Faça um Programa que peça a temperatura em graus Fahrenheit, transforme e mostre a temperatura em graus Celsius. C = 5 * ((F-32) / 9)."
   ]
  },
  {
   "cell_type": "markdown",
   "id": "12454cab",
   "metadata": {},
   "source": [
    "##### 10) Faça um Programa que peça a temperatura em graus Celsius, transforme e mostre em graus Fahrenheit."
   ]
  },
  {
   "cell_type": "markdown",
   "id": "dd2a6920",
   "metadata": {},
   "source": [
    "##### 11) Faça um Programa que peça 2 números inteiros e um número real. Calcule e mostre: o produto do dobro do primeiro com metade do segundo, a soma do triplo do primeiro com o terceiro e o terceiro elevado ao cubo."
   ]
  },
  {
   "cell_type": "markdown",
   "id": "659b70a8",
   "metadata": {},
   "source": [
    "##### 12) Tendo como dados de entrada a altura de uma pessoa, construa um algoritmo que calcule seu peso ideal, usando a seguinte fórmula: (72.7*altura) - 58"
   ]
  },
  {
   "cell_type": "markdown",
   "id": "d6c01815",
   "metadata": {},
   "source": [
    "##### 13) Tendo como dado de entrada a altura (h) de uma pessoa, construa um algoritmo que calcule seu peso ideal, utilizando as seguintes fórmulas: Para homens: (72.7*h) - 58 e Para mulheres: (62.1*h) - 44.7"
   ]
  },
  {
   "cell_type": "markdown",
   "id": "272838ca",
   "metadata": {},
   "source": [
    "##### 14) João Papo-de-Pescador, homem de bem, comprou um microcomputador para controlar o rendimento diário de seu trabalho. Toda vez que ele traz um peso de peixes maior que o estabelecido pelo regulamento de pesca do estado de São Paulo (50 quilos) deve pagar uma multa de 4 reais por quilo excedente. João precisa que você faça um programa que leia a variável peso (peso de peixes) e calcule o excesso. Gravar na variável excesso a quantidade de quilos além do limite e na variável multa o valor da multa que João deverá pagar. Imprima os dados do programa com as mensagens adequadas."
   ]
  },
  {
   "cell_type": "markdown",
   "id": "f803f39b",
   "metadata": {},
   "source": [
    "##### 15) Faça um Programa que pergunte quanto você ganha por hora e o número de horas trabalhadas no mês. Calcule e mostre o total do seu salário no referido mês, sabendo-se que são descontados 11% para o Imposto de Renda, 8% para o INSS e 5% para o sindicato, faça um programa que nos dê:\n",
    "##### 1. salário bruto.\n",
    "##### 2. quanto pagou ao INSS.\n",
    "##### 3. quanto pagou ao sindicato.\n",
    "##### 4. o salário líquido.\n",
    "##### 5. calcule os descontos e o salário líquido:"
   ]
  }
 ],
 "metadata": {
  "kernelspec": {
   "display_name": "Python 3 (ipykernel)",
   "language": "python",
   "name": "python3"
  },
  "language_info": {
   "codemirror_mode": {
    "name": "ipython",
    "version": 3
   },
   "file_extension": ".py",
   "mimetype": "text/x-python",
   "name": "python",
   "nbconvert_exporter": "python",
   "pygments_lexer": "ipython3",
   "version": "3.11.5"
  }
 },
 "nbformat": 4,
 "nbformat_minor": 5
}
