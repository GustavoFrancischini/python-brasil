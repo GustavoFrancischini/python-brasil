{
 "cells": [
  {
   "cell_type": "markdown",
   "id": "8491bc0e",
   "metadata": {},
   "source": [
    "# Python Brasil <br>\n",
    "\n",
    "#### Este é um caderno focado em estruturas sequenciais, especificamente em Python. Cada célula é independente e pode ser executada aleatoriamente. <br>\n",
    "###### https://wiki.python.org.br/ListaDeExercicios\n"
   ]
  },
  {
   "cell_type": "markdown",
   "id": "3270f50e",
   "metadata": {},
   "source": [
    "##### 1) Faça um Programa que mostre a mensagem \"Alô mundo\" na tela."
   ]
  },
  {
   "cell_type": "code",
   "execution_count": null,
   "id": "eb73bbf7",
   "metadata": {},
   "outputs": [],
   "source": [
    "print(\"Alô, mundo!\")"
   ]
  },
  {
   "cell_type": "markdown",
   "id": "de6218f5",
   "metadata": {},
   "source": [
    "##### 2) Faça um Programa que peça um número e então mostre a mensagem \"O número informado foi {número}\"."
   ]
  },
  {
   "cell_type": "code",
   "execution_count": null,
   "id": "c8b79a3d",
   "metadata": {},
   "outputs": [],
   "source": [
    "numero = float(input(\"Digite um número: \"))\n",
    "print(f\"O número digitado {numero}\")"
   ]
  },
  {
   "cell_type": "markdown",
   "id": "24308ef1",
   "metadata": {},
   "source": [
    "##### 3) Faça um Programa que peça dois números e imprima a soma."
   ]
  },
  {
   "cell_type": "code",
   "execution_count": null,
   "id": "56543470",
   "metadata": {},
   "outputs": [],
   "source": [
    "n1 = float(input(\"Informe um número: \"))\n",
    "n2 = float(input(\"Informe outro número: \"))\n",
    "\n",
    "soma = n1 + n2\n",
    "\n",
    "print(f\"A soma dos dois números é: {soma}\")"
   ]
  },
  {
   "cell_type": "markdown",
   "id": "7dedf9d1",
   "metadata": {},
   "source": [
    "##### 4) Faça um Programa que peça as 4 notas bimestrais e mostre a média."
   ]
  },
  {
   "cell_type": "code",
   "execution_count": null,
   "id": "88dcc1bf",
   "metadata": {},
   "outputs": [],
   "source": [
    "n1 = float(input(\"Informe a nota do primeiro bimestre: \"))\n",
    "n2 = float(input(\"Informe a nota do segundo bimestre: \"))\n",
    "n3 = float(input(\"Informe a nota do terceiro bimestre: \"))\n",
    "n4 = float(input(\"Informe a nota do quarto bimestre: \"))\n",
    "\n",
    "media = (n1 + n2 + n3 + n4) / 4\n",
    "\n",
    "print(f\"A media das notas é: {media}\")"
   ]
  }
 ],
 "metadata": {
  "kernelspec": {
   "display_name": "Python 3 (ipykernel)",
   "language": "python",
   "name": "python3"
  },
  "language_info": {
   "codemirror_mode": {
    "name": "ipython",
    "version": 3
   },
   "file_extension": ".py",
   "mimetype": "text/x-python",
   "name": "python",
   "nbconvert_exporter": "python",
   "pygments_lexer": "ipython3",
   "version": "3.11.5"
  }
 },
 "nbformat": 4,
 "nbformat_minor": 5
}
