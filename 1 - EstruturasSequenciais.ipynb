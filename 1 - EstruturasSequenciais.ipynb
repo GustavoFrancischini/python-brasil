{
 "cells": [
  {
   "cell_type": "markdown",
   "id": "8491bc0e",
   "metadata": {},
   "source": [
    "# Python Brasil <br>\n",
    "\n",
    "##### Este é um notebook focado em estruturas sequenciais, especificamente em Python. Cada célula é independente e pode ser executada aleatoriamente. <br>\n",
    "###### https://wiki.python.org.br/ListaDeExercicios\n"
   ]
  },
  {
   "cell_type": "markdown",
   "id": "b34ff354",
   "metadata": {},
   "source": [
    "1) Faça um Programa que mostre a mensagem \"Alô, mundo\" na tela."
   ]
  },
  {
   "cell_type": "code",
   "execution_count": null,
   "id": "031114a2",
   "metadata": {},
   "outputs": [],
   "source": [
    "print(\"Alô, mundo!\")"
   ]
  },
  {
   "cell_type": "markdown",
   "id": "1d1b8a81",
   "metadata": {},
   "source": [
    "2) Faça um Programa que peça um número e então mostre a mensagem \"O número informado foi [número]\"."
   ]
  },
  {
   "cell_type": "code",
   "execution_count": null,
   "id": "c2709750",
   "metadata": {},
   "outputs": [],
   "source": [
    "numero = int(input(\"Informe um número: \"))\n",
    "print(f\"O número informado foi {numero}\")"
   ]
  },
  {
   "cell_type": "markdown",
   "id": "6fb91e4b",
   "metadata": {},
   "source": [
    "3) Faça um Programa que peça dois números e imprima a soma."
   ]
  },
  {
   "cell_type": "code",
   "execution_count": null,
   "id": "b8e7bd20",
   "metadata": {},
   "outputs": [],
   "source": [
    "n1 = float(input(\"Informe um número: \"))\n",
    "n2 = float(input(\"Informe outro número: \"))\n",
    "\n",
    "soma = n1 + n2\n",
    "\n",
    "print(f\"A soma dos números é {soma}\")"
   ]
  },
  {
   "cell_type": "markdown",
   "id": "ab0c377a",
   "metadata": {},
   "source": [
    "4) Faça um Programa que peça as 4 notas bimestrais e mostre a média."
   ]
  },
  {
   "cell_type": "code",
   "execution_count": null,
   "id": "80d1f724",
   "metadata": {},
   "outputs": [],
   "source": [
    "nota1 = float(input(\"Informe a nota do primeiro bimestre: \"))\n",
    "nota2 = float(input(\"Informe a nota do segundo bimestre: \"))\n",
    "nota3 = float(input(\"Informe a nota do terceiro bimestre: \"))\n",
    "nota4 = float(input(\"Informe a nota do quarto bimestre: \"))\n",
    "\n",
    "media = (nota1 + nota2 + nota3 + nota4) / 4\n",
    "\n",
    "print(f\"{media} é a média das notas.\")"
   ]
  },
  {
   "cell_type": "markdown",
   "id": "a717b8eb",
   "metadata": {},
   "source": [
    "5) Faça um Programa que converta metros para centímetros."
   ]
  },
  {
   "cell_type": "code",
   "execution_count": null,
   "id": "9e7d4eb4",
   "metadata": {},
   "outputs": [],
   "source": [
    "metros = float(input(\"Digite um valor em metros: \"))\n",
    "\n",
    "conversor = metros * 100        \n",
    "\n",
    "print(f\"O valor digitado, convertido para centimetros, é {conversor:.0f}cm\")"
   ]
  },
  {
   "cell_type": "markdown",
   "id": "f8a87359",
   "metadata": {},
   "source": [
    "6) Faça um Programa que peça o raio de um círculo, calcule e mostre sua área."
   ]
  },
  {
   "cell_type": "code",
   "execution_count": null,
   "id": "63f1ddd8",
   "metadata": {},
   "outputs": [],
   "source": [
    "import math # Biblioteca com funções matemáticas\n",
    "\n",
    "raio = float(input(\"Digite o raio do círculo: \"))\n",
    "\n",
    "# Estou calculando a área do círculo usando a fórmula A = πr²\n",
    "area = math.pi * (raio ** 2)\n",
    "\n",
    "print(f\"A área do círculo com raio {raio} é: {area:.2f}\")"
   ]
  },
  {
   "cell_type": "markdown",
   "id": "6917815c",
   "metadata": {},
   "source": [
    "7) Faça um Programa que calcule a área de um quadrado, em seguida mostre o dobro desta área para o usuário."
   ]
  },
  {
   "cell_type": "code",
   "execution_count": null,
   "id": "0813a231",
   "metadata": {},
   "outputs": [],
   "source": [
    "lado = float(input(\"Digite o comprimento de um lado do seu quadrado: \"))\n",
    "área = comprimento_lado * lado\n",
    "área_dobrada = área * 2\n",
    "\n",
    "print(f\"O dobro da área do seu quadrado é {área_dobrada}\")"
   ]
  },
  {
   "cell_type": "markdown",
   "id": "3fa7683a",
   "metadata": {},
   "source": [
    "8) Faça um Programa que pergunte quanto você ganha por hora e o número de horas trabalhadas no mês. Calcule e mostre o total do seu salário no referido mês."
   ]
  },
  {
   "cell_type": "code",
   "execution_count": null,
   "id": "86d39ec2",
   "metadata": {
    "scrolled": true
   },
   "outputs": [],
   "source": [
    "# Salário por hora\n",
    "SPH = float(input(\"Quanto você ganha por hora? \"))\n",
    "# Horas mensais trabalhadas\n",
    "HTM = int(input(\"Quantas horas trabalha no mês? \"))\n",
    "\n",
    "salario_mensal = SPH * HTM\n",
    "\n",
    "# Formatei as casas decimais para melhor visualização, obviamente o ideal é que o funcinário saiba os centavos também.\n",
    "print(f\"R$ {salario_mensal:.0f} é o seu salário mensal.\")"
   ]
  },
  {
   "cell_type": "markdown",
   "id": "1341e0c8",
   "metadata": {},
   "source": [
    "9) Faça um Programa que peça a temperatura em graus Fahrenheit, transforme e mostre a temperatura em graus Celsius. Utilize a fórmula: C = 5 * ((F-32) / 9)."
   ]
  },
  {
   "cell_type": "code",
   "execution_count": null,
   "id": "83276859",
   "metadata": {},
   "outputs": [],
   "source": [
    "F = float(input(f\"Informe a temperatura em graus Fahrenheit: \"))\n",
    "\n",
    "C = 5 * ((F-32) / 9)\n",
    "\n",
    "print(f\"{C:.1f}ºC após a conversão.\")"
   ]
  },
  {
   "cell_type": "markdown",
   "id": "12454cab",
   "metadata": {},
   "source": [
    "10) Faça um Programa que peça a temperatura em graus Celsius, transforme e mostre em graus Fahrenheit."
   ]
  },
  {
   "cell_type": "code",
   "execution_count": null,
   "id": "fe9b61b9",
   "metadata": {},
   "outputs": [],
   "source": [
    "C = float(input(\"Digite a temperatura em graus Celsius: \"))\n",
    "\n",
    "F = (C * 9/5) + 32\n",
    "\n",
    "print(f\"A temperatura em graus Fahrenheit é: {F:.1f}°F\")"
   ]
  },
  {
   "cell_type": "markdown",
   "id": "dd2a6920",
   "metadata": {},
   "source": [
    "11) Faça um Programa que peça 2 números inteiros e um número real. Calcule e mostre: o produto do dobro do primeiro com metade do segundo, a soma do triplo do primeiro com o terceiro e o terceiro elevado ao cubo."
   ]
  },
  {
   "cell_type": "code",
   "execution_count": null,
   "id": "5d3321c6",
   "metadata": {
    "scrolled": false
   },
   "outputs": [],
   "source": [
    "n1 = int(input(\"Informe um número inteiro: \"))\n",
    "n2 = int(input(\"Informe outro número inteiro: \"))\n",
    "n3 = float(input(\"Informe um número real: \"))\n",
    "\n",
    "produto_dobro = (n1 * 2) * (n2 / 2)\n",
    "soma_triplo = (n1 * 3) + n3\n",
    "terceiro_aoCubo = n3 ** 3\n",
    "\n",
    "print(\"\")\n",
    "print(f\"O produto do dobro do primeiro com a metade do segundo é {produto_dobro:.0f}\")\n",
    "print(f\"A soma do triplo do primeiro com o terceiro é {soma_triplo}\")\n",
    "print(f\"O terceiro elevado ao cubo é {terceiro_aoCubo:.2f}\")"
   ]
  },
  {
   "cell_type": "markdown",
   "id": "659b70a8",
   "metadata": {},
   "source": [
    "12) Tendo como dados de entrada a altura de uma pessoa, construa um algoritmo que calcule seu peso ideal, usando a seguinte fórmula: (72.7*altura) - 58"
   ]
  },
  {
   "cell_type": "code",
   "execution_count": null,
   "id": "9fb9c5cd",
   "metadata": {},
   "outputs": [],
   "source": [
    "altura = float(input(\"Informe sua altura em metros.centimetros: \"))\n",
    "\n",
    "peso_ideal = (72.7 * altura ) - 58\n",
    "\n",
    "print(f\"Seu peso ideal é {peso_ideal}\")"
   ]
  },
  {
   "cell_type": "markdown",
   "id": "d6c01815",
   "metadata": {},
   "source": [
    "13) Tendo como dado de entrada a altura (h) de uma pessoa, construa um algoritmo que calcule seu peso ideal, utilizando as seguintes fórmulas: Para homens: (72.7*h) - 58 e Para mulheres: (62.1*h) - 44.7"
   ]
  },
  {
   "cell_type": "code",
   "execution_count": null,
   "id": "699a81e3",
   "metadata": {},
   "outputs": [],
   "source": [
    "altura = float(input(\"Informe sua altura em metros.centimetros: \"))\n",
    "sexo = str(input(\"Informe seu gênero, sendo M para masculino e F para feminino: \")).upper()\n",
    "\n",
    "if 'M' in sexo:\n",
    "    peso_ideal = (72.7 * altura ) - 58\n",
    "    print(f\"Seu peso ideal é {peso_ideal:.1f}\")\n",
    "elif 'F' in sexo:\n",
    "    peso_ideal = (62.1 * altura ) - 44.7\n",
    "    print(f\"Seu peso ideal é {peso_ideal:.1f}\")\n",
    "else:\n",
    "    print(\"Digite somente M ou F\")"
   ]
  },
  {
   "cell_type": "markdown",
   "id": "272838ca",
   "metadata": {},
   "source": [
    "14) João Papo-de-Pescador, homem de bem, comprou um microcomputador para controlar o rendimento diário de seu trabalho. Toda vez que ele traz um peso de peixes maior que o estabelecido pelo regulamento de pesca do estado de São Paulo (50 quilos) deve pagar uma multa de R$ 4,00 por quilo excedente. João precisa que você faça um programa que leia a variável peso (peso de peixes) e calcule o excesso. Gravar na variável excesso a quantidade de quilos além do limite e na variável multa o valor da multa que João deverá pagar. Imprima os dados do programa com as mensagens adequadas."
   ]
  },
  {
   "cell_type": "code",
   "execution_count": null,
   "id": "7cd9c56d",
   "metadata": {},
   "outputs": [],
   "source": [
    "peso_peixes = float(input(\"Informe em kg o peso dos pescados de hoje: \"))\n",
    "excesso = peso_peixes - 50\n",
    "\n",
    "if excesso > 0:\n",
    "    multa = excesso * 4\n",
    "    print(f\"A multa é de R$ {multa:.2f}\")\n",
    "elif excesso == 0:\n",
    "    print(\"Você chegou no limite!\")\n",
    "else:\n",
    "    print(\"Não há multas hoje.\")\n",
    "    "
   ]
  },
  {
   "cell_type": "markdown",
   "id": "f803f39b",
   "metadata": {},
   "source": [
    "15) Faça um Programa que pergunte quanto você ganha por hora e o número de horas trabalhadas no mês. Calcule e mostre o total do seu salário no referido mês, sabendo-se que são descontados 11% para o Imposto de Renda, 8% para o INSS e 5% para o sindicato, faça um programa que nos dê:\n",
    "1. salário bruto.\n",
    "2. quanto pagou ao INSS.\n",
    "3. quanto pagou ao sindicato.\n",
    "4. o salário líquido.\n",
    "5. calcule os descontos e o salário líquido, conforme os descontos mencionados acima:"
   ]
  },
  {
   "cell_type": "code",
   "execution_count": null,
   "id": "29cb4d73",
   "metadata": {},
   "outputs": [],
   "source": [
    "# Salário por hora\n",
    "SPH = float(input(\"Qual seu salário por hora? \"))\n",
    "# Horas mensais trabalhadas\n",
    "HTM = int(input(\"Quantas horas trabalhou no mês? \"))\n",
    "\n",
    "salario_bruto = SPH * HTM\n",
    "IR = salario_bruto * 0.11\n",
    "INSS = salario_bruto * 0.08\n",
    "sindicato = salario_bruto * 0.05\n",
    "salario_liquido = salario_bruto - IR - INSS - sindicato\n",
    "\n",
    "print(\"\")\n",
    "print(f\"{salario_liquido} é o seu salário líquido.\")\n",
    "print(f\"Desconto de Imposto de Renda (11%): R$ {IR:.2f}\")\n",
    "print(f\"Desconto de INSS (8%): R$ {INSS:.2f}\")\n",
    "print(f\"Desconto de Sindicato (5%): R$ {sindicato:.2f}\")"
   ]
  },
  {
   "cell_type": "markdown",
   "id": "83c5069c",
   "metadata": {},
   "source": [
    "16) Faça um programa para uma loja de tintas. O programa deverá pedir o tamanho em metros quadrados da área a ser pintada. Considere que a cobertura da tinta é de 1 litro para cada 3 metros quadrados e que a tinta é vendida em latas de 18 litros, que custam R$ 80,00. \n",
    "Informe ao usuário a quantidades de latas de tinta a serem compradas e o preço total."
   ]
  },
  {
   "cell_type": "code",
   "execution_count": null,
   "id": "986cb7f9",
   "metadata": {
    "scrolled": true
   },
   "outputs": [],
   "source": [
    "import math # Biblioteca com funções matemáticas\n",
    "\n",
    "tamanho = float(input(\"Informe o tamanho em m² da área a ser pintada: \"))\n",
    "\n",
    "if tamanho:\n",
    "    litros = tamanho / 3\n",
    "    latas = math.ceil(litros / 18)\n",
    "    valor = latas * 80\n",
    "    print(f\"Você precisa de {latas} latas, no valor de R$ {valor}\")"
   ]
  },
  {
   "cell_type": "markdown",
   "id": "5d88ffb3",
   "metadata": {},
   "source": [
    "17) Faça um Programa para uma loja de tintas. O programa deverá pedir o tamanho em metros quadrados da área a ser pintada. Considere que a cobertura da tinta é de 1 litro para cada 6 metros quadrados e que a tinta é vendida em latas de 18 litros, que custam R$ 80,00 ou em galões de 3,6 litros, que custam 25,00 reais. Informe ao usuário as quantidades de tinta a serem compradas e os respectivos preços em 3 situações:\n",
    "1. comprar apenas latas de 18 litros;\n",
    "2. comprar apenas galões de 3,6 litros;\n",
    "3. misturar latas e galões, de forma que o desperdício de tinta seja menor. Acrescente 10% de folga e sempre arredonde os valores para cima, isto é, considere latas cheias."
   ]
  },
  {
   "cell_type": "code",
   "execution_count": 1,
   "id": "c36893e5",
   "metadata": {},
   "outputs": [
    {
     "name": "stdout",
     "output_type": "stream",
     "text": [
      "Informe o tamanho em m² da área a ser pintada: 50\n",
      "Comprando apenas latas de 18 litros, são necessárias 1 latas, no valor de R$ 80\n",
      "Comprando apenas galões de 3.6 litros, são necessários 3 galões, no valor de R$ 25\n",
      "Misturando latas e galões, você precisa de 0 latas e 3 galões, no valor de R$ 75\n"
     ]
    }
   ],
   "source": [
    "import math # Biblioteca com funções matemáticas\n",
    "\n",
    "tamanho = float(input(\"Informe o tamanho em m² da área a ser pintada: \"))\n",
    "\n",
    "if tamanho:\n",
    "    litros = tamanho / 6\n",
    "    latas = math.ceil(litros / 18)\n",
    "    galoes = math.ceil(litros / 3.6)\n",
    "    valorL = latas * 80\n",
    "    valorG = latas * 25\n",
    "    \n",
    "    print(\"\")\n",
    "    print(f\"Comprando apenas latas de 18 litros, são necessárias {latas} latas, no valor de R$ {valorL}\")\n",
    "    print(f\"Comprando apenas galões de 3.6 litros, são necessários {galoes} galões, no valor de R$ {valorG}\")\n",
    "    \n",
    "    # Mistura de latas e galões\n",
    "    latas_misturadas = int(litros / 18)\n",
    "    litros_restantes = litros % 18\n",
    "    galoes_misturados = math.ceil(litros_restantes / 3.6)\n",
    "    valor_misturado = (latas_misturadas * 80) + (galoes_misturados * 25)\n",
    "    \n",
    "    print(f\"Misturando latas e galões, você precisa de {latas_misturadas} latas e {galoes_misturados} galões, no valor de R$ {valor_misturado}\")"
   ]
  },
  {
   "cell_type": "markdown",
   "id": "6bb51aad",
   "metadata": {},
   "source": [
    "18) Faça um programa que peça o tamanho de um arquivo para download (em MB) e a velocidade de um link de Internet (em Mbps), calcule e informe o tempo aproximado de download do arquivo usando este link (em minutos)."
   ]
  },
  {
   "cell_type": "code",
   "execution_count": null,
   "id": "0ddbf349",
   "metadata": {},
   "outputs": [],
   "source": [
    "tamanho = float(input(\"Informe o tamanho do arquivo em MB: \"))\n",
    "velocidade = float(input(\"Informe a velocidade da sua conexão à Internet em Mbps: \"))\n",
    "\n",
    "tempo = (tamanho / (velocidade / 8)) / 60\n",
    "\n",
    "print(f\"O tempo aproximado de download do arquivo é de {tempo:.2f} minutos.\")\n"
   ]
  }
 ],
 "metadata": {
  "kernelspec": {
   "display_name": "Python 3 (ipykernel)",
   "language": "python",
   "name": "python3"
  },
  "language_info": {
   "codemirror_mode": {
    "name": "ipython",
    "version": 3
   },
   "file_extension": ".py",
   "mimetype": "text/x-python",
   "name": "python",
   "nbconvert_exporter": "python",
   "pygments_lexer": "ipython3",
   "version": "3.11.5"
  }
 },
 "nbformat": 4,
 "nbformat_minor": 5
}
